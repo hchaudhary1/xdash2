{
 "cells": [
  {
   "cell_type": "code",
   "execution_count": null,
   "metadata": {},
   "outputs": [],
   "source": [
    "\n",
    "import datetime\n",
    "import time\n",
    "import inspect\n",
    "import json\n",
    "import numpy as np\n",
    "import os\n",
    "import pandas as pd\n",
    "import pickle\n",
    "import pytz\n",
    "import quantstats as qs\n",
    "import requests\n",
    "import time\n",
    "import download_curves\n",
    "from scipy.stats import pearsonr\n",
    "\n"
   ]
  },
  {
   "cell_type": "code",
   "execution_count": null,
   "metadata": {},
   "outputs": [],
   "source": [
    "\n",
    "\n",
    "sym_id = 'Do36TWTu1gWh8SewO1Go'\n",
    "\n",
    "file_path = f'backtest_results/2_{sym_id}-1990-01-01-to-2024-02-24.json'\n",
    "with open(file_path, 'r') as file:\n",
    "    data = json.load(file)\n",
    "    \n",
    "dvm_capital_data = data['dvm_capital'][sym_id]\n",
    "\n",
    "\n",
    "for date, value in dvm_capital_data.items():\n",
    "    print(f\"{date}: {value}\")\n",
    "\n",
    "# begging\n",
    "# live_date\n",
    "# end_date\n",
    "# size\n",
    "# is_live\n",
    "\n",
    "# \"dvm_capital\": result[\"dvm_capital\"][str(symphony_id)],"
   ]
  },
  {
   "cell_type": "code",
   "execution_count": null,
   "metadata": {},
   "outputs": [],
   "source": [
    "symphony_id = 'Do36TWTu1gWh8SewO1Go'\n",
    "DATE_1990 = \"1990-01-01\"\n",
    "DATE_TODAY = datetime.date.today().strftime(\"%Y-%m-%d\")\n",
    "\n",
    "\n",
    "def find_min_max_dates(sym_id):\n",
    "    date_1990 = datetime.date(1990, 1, 1).strftime(\"%Y-%m-%d\") # 11110\n",
    "    curve = download_curves.single_backtest(\n",
    "        sym_id, DATE_1990, DATE_TODAY\n",
    "    )\n",
    "\n",
    "    curve = dict(curve[\"dvm_capital\"][sym_id].items())\n",
    "    min_date = list(curve.keys())[0]\n",
    "    print(min_date)\n",
    "    \n",
    "    last_date = list(curve.keys())[-1]\n",
    "    print(last_date)\n",
    "\n",
    "    # max_start_date = list(max_start_date_backtest.keys())[0]\n",
    "    # print(\"\")\n",
    "    # max_start_date = download_curves.epoch_days_to_date(int(max_start_date)).strftime(\"%Y-%m-%d\")\n",
    "\n",
    "    # max_start_date\n",
    "\n",
    "find_min_max_dates(symphony_id)"
   ]
  }
 ],
 "metadata": {
  "kernelspec": {
   "display_name": "xdash",
   "language": "python",
   "name": "python3"
  },
  "language_info": {
   "codemirror_mode": {
    "name": "ipython",
    "version": 3
   },
   "file_extension": ".py",
   "mimetype": "text/x-python",
   "name": "python",
   "nbconvert_exporter": "python",
   "pygments_lexer": "ipython3",
   "version": "3.11.7"
  }
 },
 "nbformat": 4,
 "nbformat_minor": 2
}
